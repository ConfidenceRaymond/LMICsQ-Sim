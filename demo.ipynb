{
    "cells": [
     {
      "cell_type": "markdown",
      "metadata": {},
      "source": [
       "# Low-Quality MRI Simulation Demo\n",
       "Visualize individual transform effects and the full pipeline.\n",
       "Run in Colab or locally with a Kaggle dataset."
      ]
     },
     {
      "cell_type": "code",
      "execution_count": null,
      "metadata": {},
      "outputs": [],
      "source": [
       "# Install dependencies\n",
       "!pip install torchio nibabel matplotlib kaggle\n",
       "\n",
       "# Set up Kaggle API (upload kaggle.json in Colab)\n",
       "import os\n",
       "os.environ['KAGGLE_CONFIG_DIR'] = '/content'\n",
       "!kaggle datasets download -d navoneel/brain-mri-images-for-brain-tumor-detection\n",
       "!unzip -q brain-mri-images-for-brain-tumor-detection.zip -d sample_data\n",
       "\n",
       "# Imports\n",
       "import torchio as tio\n",
       "import matplotlib.pyplot as plt\n",
       "from degrade_mri import get_degradation_pipeline, get_individual_transforms, degrade_mri, save_transform_history\n",
       "\n",
       "# Load a sample MRI (adjust to a NIfTI file from the dataset)\n",
       "mri_path = 'sample_data/brain_tumor_dataset/yes/Y1.nii'  # Example NIfTI path, adjust as needed\n",
       "mri = tio.ScalarImage(mri_path)\n",
       "\n",
       "# Visualize function\n",
       "def show_slice(mri, title, ax):\n",
       "    slice_idx = mri.shape[1] // 2\n",
       "    ax.imshow(mri.data[0, slice_idx, :, :], cmap='gray')\n",
       "    ax.set_title(title)\n",
       "    ax.axis('off')\n",
       "\n",
       "# Demo individual transforms and full pipeline\n",
       "fig, axes = plt.subplots(4, 3, figsize=(15, 12))\n",
       "axes = axes.flatten()\n",
       "show_slice(mri, 'Original', axes[0])\n",
       "\n",
       "individual_transforms = get_individual_transforms()\n",
       "transformed_mris = []\n",
       "for i, (name, transform) in enumerate(individual_transforms.items(), 1):\n",
       "    degraded_mri, _ = degrade_mri(mri_path, f'{name}_degraded.nii', tio.Compose([transform], log_history=True))\n",
       "    show_slice(degraded_mri, name, axes[i])\n",
       "    transformed_mris.append(degraded_mri)\n",
       "\n",
       "# Full pipeline\n",
       "pipeline = get_degradation_pipeline()\n",
       "full_degraded, full_history_path = degrade_mri(mri_path, 'full_degraded.nii', pipeline)\n",
       "show_slice(full_degraded, 'Full Pipeline', axes[-1])\n",
       "transformed_mris.append(full_degraded)\n",
       "\n",
       "plt.tight_layout()\n",
       "plt.show()\n",
       "\n",
       "# Save combined history for all transforms\n",
       "save_transform_history(transformed_mris, 'combined_transform_history.json')\n",
       "\n",
       "# Display full pipeline history\n",
       "with open(full_history_path, 'r') as f:\n",
       "    history = json.load(f)\n",
       "    print('Full Pipeline History:')\n",
       "    print(json.dumps(history, indent=4))"
      ]
     }
    ],
    "metadata": {
     "kernelspec": {
      "display_name": "Python 3",
      "language": "python",
      "name": "python3"
     }
    },
    "nbformat": 4,
    "nbformat_minor": 4
   }